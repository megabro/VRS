{
 "cells": [
  {
   "cell_type": "markdown",
   "metadata": {},
   "source": [
    "<div class=\"alert alert-block alert-info\">\n",
    "<b>Warning:</b> Is this the latest code?\n",
    "</div>"
   ]
  },
  {
   "cell_type": "code",
   "execution_count": 2,
   "metadata": {},
   "outputs": [
    {
     "name": "stdout",
     "output_type": "stream",
     "text": [
      "fuel injector orifice area: 2.8462722678592803e-05 m^2 =  28.462722678592804 mm^2\n",
      "oxidiser injector orifice area: 2.9617443887954616e-05 m^2 =  29.617443887954618 mm^2\n",
      "fuel injection velocity: 17.789201674120502 m/s\n",
      "oxidiser injection velocity: 14.808721943977309 m/s\n",
      "beta -1.1389763595100804\n",
      "throat area: 0.00036452004860267317 m^2 =  364.52004860267317 mm^2\n",
      "exit area: 0.0013044282299663533 m^2 =  1304.4282299663532 mm^2\n",
      "throat diameter: 0.02154347559540259 m =  21.54347559540259 mm\n",
      "exit diameter: 0.040753522616604 m =  40.753522616603995 mm\n",
      "espansion ratio 3.578481444207696\n",
      "L star 1\n",
      "chamber volume 0.00036452004860267317 m^3 =  364520.04860267317 mm^3\n",
      "chamber length 0.09765624999999999\n",
      "chamber area: 0.0037326852976913736 m^2 =  3732.6852976913738 mm^2\n",
      "chamber diameter: 0.0689391219052883 m =  68.93912190528829 mm\n",
      "chamber length 0.09765624999999999 m =  97.65624999999999 mm\n"
     ]
    }
   ],
   "source": [
    "import math\n",
    "\n",
    "# known variables\n",
    "\n",
    "F = 1200                    # thrust (N)\n",
    "wdot_f = 0.4               # mass flow fuel (kg/s)\n",
    "wdot_o = 0.5                # mass flow oxidiser (kg/s)\n",
    "ro_f = 790                  # density fuel (kg/m^3)\n",
    "ro_o = 1140                 # density oxidiser (kg/m^3)\n",
    "cd = 0.5                   # discarge coefficient \n",
    "p_d = 5*10**5               # pressure drop in injector plate (Pa)\n",
    "p_c = 20*10**5              # chamber pressure\n",
    "p_e = 1*10**5              # exit pressure\n",
    "g = 9.81                    # gravitational acceleration (m/s^2)\n",
    "a1 = 45                     # angle between fuel stram and vertical axis (degrees)\n",
    "a2 = 45                     # angle between oxidiser stram and vertical axis (degrees)\n",
    "a1_rad = a1/180*math.pi     #conversion of a1 in radians\n",
    "a2_rad = a2/180*math.pi     #conversion of a2 in radians\n",
    "\n",
    "c_f = 1.646                  # thrust coefficient \n",
    "gama = 1.21                  # specific heat ratio \n",
    "t_s = 0.02                   # vaporisation time (s)\n",
    "cr = 3.2                  # contraction ratio,  \n",
    "L_star = 1                # characteristic length radm ish value \n",
    "\n",
    "\n",
    "\n",
    "#chamber geometry \n",
    "\n",
    "\n",
    "a_t = F/(c_f*p_c)                    # area of throat calc \n",
    "d_t = math.sqrt(4*a_t/math.pi)       # throat diameter \n",
    "e = ((((2/(gama+1))**(1/(gama-1)))*((p_c/p_e)**(1/gama)))/(math.sqrt(((gama+1)/(gama-1))*(1-((p_e/p_c)**((gama-1)/gama))))))  #expansion ratio\n",
    "a_e = e*a_t                         # exit area\n",
    "d_e = math.sqrt(4*a_e/math.pi)      # exit diameter \n",
    "v_sp = (1/ro_f+1/ro_o)/2                # specific voulme, average m^3/kg\n",
    "v_c = L_star*a_t                 # chmaber volume \n",
    "d_c = d_t*cr                        # chamber diameter \n",
    "a_c = math.pi*((d_c/2)**2)    \n",
    "L_c = v_c/ (a_c)                  # combustion chamber length\n",
    "\n",
    "# injector plate \n",
    "\n",
    "\n",
    "\n",
    "inj_orifice_area_fuel = math.sqrt((wdot_f**2)/(2*ro_f*(cd**2)*p_d))           #calculates injector orifice area for fuel (m^2)\n",
    "inj_orifice_area_oxidiser = math.sqrt((wdot_o**2)/(2*ro_o*(cd**2)*p_d))       #calculates injector orifice area for oxidiser (m^2)\n",
    "\n",
    "v_f = wdot_f/(inj_orifice_area_fuel*ro_f)           # calculates injection velocity fuel (m/s)\n",
    "v_o = wdot_o/(inj_orifice_area_oxidiser*ro_o)       # calculates injection velocity oxidiser (m/s)\n",
    "\n",
    "beta_rad = math.atan((wdot_f*v_f*math.sin(a1_rad)-wdot_o*v_o*math.sin(a2_rad))/(wdot_f*v_f*math.cos(a1_rad)+wdot_o*v_o*math.cos(a2_rad)))       #resultant angle of impinging stream, with vertical axis (rad)\n",
    "beta = beta_rad*180/math.pi                                                                                                                     #conversion of beta to degrees\n",
    "\n",
    "r_m = (wdot_o*v_o)/(wdot_f*v_f)     #injection momentum ratio\n",
    "\n",
    "#print results\n",
    "print(\"fuel injector orifice area:\", inj_orifice_area_fuel, \"m^2 = \", inj_orifice_area_fuel*10**6, \"mm^2\")\n",
    "print(\"oxidiser injector orifice area:\", inj_orifice_area_oxidiser, \"m^2 = \", inj_orifice_area_oxidiser*10**6, \"mm^2\")\n",
    "print(\"fuel injection velocity:\", v_f, \"m/s\")\n",
    "print(\"oxidiser injection velocity:\", v_o, \"m/s\")\n",
    "print(\"beta\", beta)\n",
    "print(\"throat area:\", a_t,\"m^2 = \", a_t*10**6, \"mm^2\")\n",
    "print(\"exit area:\", a_e, \"m^2 = \", a_e*10**6, \"mm^2\")\n",
    "print(\"throat diameter:\", d_t, \"m = \", d_t*10**3, \"mm\")\n",
    "print(\"exit diameter:\", d_e, \"m = \", d_e*10**3, \"mm\")\n",
    "print(\"espansion ratio\", e)\n",
    "print(\"L star\", L_star)\n",
    "print(\"chamber volume\", v_c, \"m^3 = \", v_c*10**9, \"mm^3\")\n",
    "print(\"chamber length\", L_c )\n",
    "print(\"chamber area:\", a_c, \"m^2 = \", a_c*10**6, \"mm^2\")\n",
    "print(\"chamber diameter:\", d_c, \"m = \", d_c*10**3, \"mm\")\n",
    "print(\"chamber length\", L_c, \"m = \", L_c*10**3, \"mm\")"
   ]
  },
  {
   "cell_type": "markdown",
   "metadata": {},
   "source": [
    "<div class=\"alert alert-block alert-warning\">\n",
    "<b>Warning:</b> SEEMINGLY OLD CODE BELOW.\n",
    "</div>"
   ]
  },
  {
   "cell_type": "code",
   "execution_count": 3,
   "metadata": {},
   "outputs": [
    {
     "name": "stdout",
     "output_type": "stream",
     "text": [
      "fuel injector orifice area: 9.087447976838789e-06 m^2 =  9.087447976838789 mm^2\n",
      "oxidiser injector orifice area: 9.456122085648488e-06 m^2 =  9.456122085648488 mm^2\n",
      "fuel injection velocity: 55.71741540799281 m/s\n",
      "oxidiser injection velocity: 46.38227883010584 m/s\n",
      "beta -1.1389763595100895\n",
      "momentum ratio 1.0405695977296754\n"
     ]
    }
   ],
   "source": [
    "import math\n",
    "\n",
    "# injector plate \n",
    "\n",
    "# known variables\n",
    "\n",
    "wdot_f = 0.4                # mass flow fuel (kg/s)\n",
    "wdot_o = 0.5                # mass flow oxidiser (kg/s)\n",
    "ro_f = 790                  # density fuel (kg/m^3)\n",
    "ro_o = 1140                 # density oxidiser (kg/m^3)\n",
    "cd = 0.5                    # discarge coefficient \n",
    "p_d = 5*10**5               # pressure drop in injector plate (Pa)\n",
    "g = 9.81                    # gravitational acceleration (m/s^2)\n",
    "a1 = 45                     # angle between fuel stram and vertical axis (degrees)\n",
    "a2 = 45                     # angle between oxidiser stram and vertical axis (degrees)\n",
    "a1_rad = a1/180*math.pi     #conversion of a1 in radians\n",
    "a2_rad = a2/180*math.pi     #conversion of a2 in radians\n",
    "\n",
    "# calculations\n",
    "inj_orifice_area_fuel = math.sqrt((wdot_f**2)/(2*g*ro_f*(cd**2)*p_d))           #calculates injector orifice area for fuel (m^2)\n",
    "inj_orifice_area_oxidiser = math.sqrt((wdot_o**2)/(2*g*ro_o*(cd**2)*p_d))       #calculates injector orifice area for oxidiser (m^2)\n",
    "\n",
    "v_f = wdot_f/(inj_orifice_area_fuel*ro_f)           # calculates injection velocity fuel (m/s)\n",
    "v_o = wdot_o/(inj_orifice_area_oxidiser*ro_o)       # calculates injection velocity oxidiser (m/s)\n",
    "\n",
    "beta_rad = math.atan((wdot_f*v_f*math.sin(a1_rad)-wdot_o*v_o*math.sin(a2_rad))/(wdot_f*v_f*math.cos(a1_rad)+wdot_o*v_o*math.cos(a2_rad)))       #resultant angle of impinging stream, with vertical axis (rad)\n",
    "beta = beta_rad*180/math.pi                                                                                                                     #conversion of beta to degrees\n",
    "\n",
    "r_m = (wdot_o*v_o)/(wdot_f*v_f)     #injection momentum ratio\n",
    "\n",
    "#print results\n",
    "print(\"fuel injector orifice area:\", inj_orifice_area_fuel, \"m^2 = \", inj_orifice_area_fuel*10**6, \"mm^2\")\n",
    "print(\"oxidiser injector orifice area:\", inj_orifice_area_oxidiser, \"m^2 = \", inj_orifice_area_oxidiser*10**6, \"mm^2\")\n",
    "print(\"fuel injection velocity:\", v_f, \"m/s\")\n",
    "print(\"oxidiser injection velocity:\", v_o, \"m/s\")\n",
    "print(\"beta\", beta)\n",
    "print(\"momentum ratio\", r_m)"
   ]
  }
 ],
 "metadata": {
  "kernelspec": {
   "display_name": "Python 3 (ipykernel)",
   "language": "python",
   "name": "python3"
  },
  "language_info": {
   "codemirror_mode": {
    "name": "ipython",
    "version": 3
   },
   "file_extension": ".py",
   "mimetype": "text/x-python",
   "name": "python",
   "nbconvert_exporter": "python",
   "pygments_lexer": "ipython3",
   "version": "3.12.2"
  }
 },
 "nbformat": 4,
 "nbformat_minor": 4
}
